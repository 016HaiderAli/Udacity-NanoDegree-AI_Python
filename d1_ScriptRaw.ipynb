{
 "cells": [
  {
   "cell_type": "markdown",
   "metadata": {},
   "source": [
    "# Quiz: Scripting with Raw Input \n",
    "Quiz: Generate Messages <br>\n",
    "Imagine you're a teacher who needs to send a message to each of your students reminding them of their missing assignments and grade in the class. You have each of their names, number of missing assignments, and grades on a spreadsheet and just have to insert them into placeholders in this message you came up with:<br><br>\n",
    "\n",
    "Hi [insert student name], <br><br>\n",
    "\n",
    "This is a reminder that you have [insert number of missing assignments] assignments left to submit before you can graduate. Your current grade is [insert current grade] and can increase to [insert potential grade] if you submit all assignments before the due date. <br><br>\n",
    "\n",
    "You can just copy and paste this message to each student and manually insert the appropriate values each time, but instead you're going to write a program that does this for you.<br><br>\n",
    "\n",
    "Write a script that does the following:<br><br>\n",
    "\n",
    "Ask for user input 3 times. Once for a list of names, once for a list of missing assignment counts, and once for a list of grades. Use this input to create lists for names, assignments, and grades.<br>\n",
    "Use a loop to print the message for each student with the correct values. The potential grade is simply the current grade added to two times the number of missing assignments."
   ]
  },
  {
   "cell_type": "code",
   "execution_count": 7,
   "metadata": {},
   "outputs": [
    {
     "name": "stdout",
     "output_type": "stream",
     "text": [
      "Hi Haider Ali,\n",
      "\n",
      "This is a reminder that you have 3 assignments left to submit before you can graduate. Your current grade is 79 and can increase to 85 if you submit all assignments before the due date.\n",
      "\n",
      "\n",
      "Hi  Shujat Ali,\n",
      "\n",
      "This is a reminder that you have 0 assignments left to submit before you can graduate. Your current grade is 83 and can increase to 83 if you submit all assignments before the due date.\n",
      "\n",
      "\n"
     ]
    }
   ],
   "source": [
    "names =  list(input(\"Enter names separated by commas: \").split(\",\"))# get and process input for a list of names\n",
    "assignments =  list( map( int, input(\"Enter assignment counts separated by commas: \").split(\",\")))# get and process input for a list of the number of assignments\n",
    "grades = list( map( int, input(\"Enter grades separated by commas: \").split(\",\"))) # get and process input for a list of grades\n",
    "\n",
    "## message string to be used for each student\n",
    "## HINT: use .format() with this string in your for loop\n",
    "message = \"Hi {},\\n\\nThis is a reminder that you have {} assignments left to \\\n",
    "submit before you can graduate. Your current grade is {} and can increase \\\n",
    "to {} if you submit all assignments before the due date.\\n\\n\"\n",
    "\n",
    "## write a for loop that iterates through each set of names, assignments, and grades to print each student's message\n",
    "for name, assignment, grade in zip(names, assignments, grades):\n",
    "    if assignment > 1:\n",
    "        print(message.format(name, assignment, grade, grade + (assignment*2) ))\n",
    "    else:\n",
    "        print(message.format(name, assignment, grade, grade))    "
   ]
  },
  {
   "cell_type": "code",
   "execution_count": null,
   "metadata": {},
   "outputs": [],
   "source": []
  }
 ],
 "metadata": {
  "kernelspec": {
   "display_name": "Python 3",
   "language": "python",
   "name": "python3"
  },
  "language_info": {
   "codemirror_mode": {
    "name": "ipython",
    "version": 3
   },
   "file_extension": ".py",
   "mimetype": "text/x-python",
   "name": "python",
   "nbconvert_exporter": "python",
   "pygments_lexer": "ipython3",
   "version": "3.11.1"
  }
 },
 "nbformat": 4,
 "nbformat_minor": 2
}
