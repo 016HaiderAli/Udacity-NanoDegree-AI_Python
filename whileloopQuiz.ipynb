{
 "cells": [
  {
   "cell_type": "markdown",
   "metadata": {},
   "source": [
    "## Quiz: Count By\n",
    "Suppose you want to count from some number `start_num` by another number `count_by` until you hit a final number `end_num`. Use `break_num` as the variable that you'll change each time through the loop.  For simplicity, assume that `end_num` is always larger than `start_num` and `count_by` is always positive. \n",
    "\n",
    "Before the loop, what do you want to set `break_num` equal to? How do you want to change `break_num` each time through the loop? What condition will you use to see when it's time to stop looping?\n",
    "\n",
    "After the loop is done, what's the value of `break_num`? It is the case that `break_num` should be a number that is the first number larger than `end_num`."
   ]
  },
  {
   "cell_type": "code",
   "execution_count": 1,
   "metadata": {},
   "outputs": [
    {
     "name": "stdout",
     "output_type": "stream",
     "text": [
      "101\n"
     ]
    }
   ],
   "source": [
    "start_num = 5 #provide some start number, replace 5 with a number you choose\n",
    "end_num = 100#provide some end number that you stop when you hit, replace 100 with a number you choose\n",
    "count_by = 2 #provide some number to count by, replace 2 with a number you choose \n",
    "\n",
    "break_num = start_num #replace None with appropriate code\n",
    "\n",
    "# write a while loop that uses break_num as the ongoing number to \n",
    "# check against end_num\n",
    "while break_num <= end_num:\n",
    "    break_num += count_by\n",
    "    \n",
    "print(break_num)    "
   ]
  },
  {
   "cell_type": "markdown",
   "metadata": {},
   "source": [
    "## Quiz: Count By Check\n",
    "Suppose you want to count from some number `start_num` by another number `count_by` until you hit a final number `end_num`, and calculate `break_num` the way you did in the last quiz.\n",
    "\n",
    "Now in addition, address what would happen if someone gives a `start_num` that is greater than `end_num`. If this is the case, set `result` to `\"Oops!  Looks like your start value is greater than the end value.  Please try again.\"` \n",
    "\n",
    "Otherwise, set `result` to the value of `break_num`."
   ]
  },
  {
   "cell_type": "code",
   "execution_count": 3,
   "metadata": {},
   "outputs": [
    {
     "name": "stdout",
     "output_type": "stream",
     "text": [
      "101\n"
     ]
    }
   ],
   "source": [
    "start_num = 5 #provide some start number, replace 5 with a number you choose\n",
    "end_num = 100 #provide some end number that you stop when you hit, replace 100 with a number you choose\n",
    "count_by = 2 #provide some number to count by, replace 2 with a number you choose \n",
    "\n",
    "# write a condition to check that end_num is larger than start_num before looping\n",
    "if start_num > end_num:\n",
    "    result = \"Oops! Looks like your start value is greater than the end value. Please try again.\"\n",
    "else: \n",
    "    break_num = start_num #replace None with appropriate code\n",
    "    # write a while loop that uses break_num as the ongoing number to \n",
    "    # check against end_num\n",
    "    while break_num <= end_num:\n",
    "        break_num += count_by\n",
    "        \n",
    "    result = break_num #replace None with appropriate code\n",
    "print(result)    "
   ]
  },
  {
   "cell_type": "markdown",
   "metadata": {},
   "source": [
    "## Quiz: Nearest Square\n",
    "Write a while loop that finds the largest square number less than an integer `limit` and stores it in a variable `nearest_square`. A square number is the product of an integer multiplied by itself, for example 36 is a square number because it equals 6*6.\n",
    "\n",
    "For example, if limit is `40`, your code should set the `nearest_square` to 36."
   ]
  },
  {
   "cell_type": "code",
   "execution_count": 4,
   "metadata": {},
   "outputs": [
    {
     "name": "stdout",
     "output_type": "stream",
     "text": [
      "49\n"
     ]
    }
   ],
   "source": [
    "limit = 50 #provide a limit, replace 40 with a number you choose\n",
    "nearest_square = 0 # initializing\n",
    "initiator = 1\n",
    "# write your while loop here\n",
    "while (initiator**2) < limit:\n",
    "    nearest_square = initiator**2 # replace None with appropriate code\n",
    "    initiator +=1\n",
    "print(nearest_square)"
   ]
  },
  {
   "cell_type": "code",
   "execution_count": null,
   "metadata": {},
   "outputs": [],
   "source": []
  }
 ],
 "metadata": {
  "kernelspec": {
   "display_name": "Python 3",
   "language": "python",
   "name": "python3"
  },
  "language_info": {
   "codemirror_mode": {
    "name": "ipython",
    "version": 3
   },
   "file_extension": ".py",
   "mimetype": "text/x-python",
   "name": "python",
   "nbconvert_exporter": "python",
   "pygments_lexer": "ipython3",
   "version": "3.11.1"
  }
 },
 "nbformat": 4,
 "nbformat_minor": 2
}
